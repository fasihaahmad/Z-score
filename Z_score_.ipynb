{
  "nbformat": 4,
  "nbformat_minor": 0,
  "metadata": {
    "colab": {
      "name": "Z score:",
      "provenance": [],
      "collapsed_sections": []
    },
    "kernelspec": {
      "name": "python3",
      "display_name": "Python 3"
    },
    "language_info": {
      "name": "python"
    }
  },
  "cells": [
    {
      "cell_type": "code",
      "execution_count": 1,
      "metadata": {
        "id": "Om9FTjT9ROkd"
      },
      "outputs": [],
      "source": [
        "import numpy as np\n",
        "import pandas as pd\n",
        "import scipy.stats as stats"
      ]
    },
    {
      "cell_type": "markdown",
      "source": [
        "step 1: import modules\n",
        "\n",
        "step 2: create an array values"
      ],
      "metadata": {
        "id": "emcylhYcSQ2Q"
      }
    },
    {
      "cell_type": "code",
      "source": [
        "data = np.array([6,7,7,12,13,13,15,16,19,22])"
      ],
      "metadata": {
        "id": "ZapFBXRHScX2"
      },
      "execution_count": 2,
      "outputs": []
    },
    {
      "cell_type": "markdown",
      "source": [
        "step 3: calculate the z-scores for each value in the array."
      ],
      "metadata": {
        "id": "bI1hI45LSnvd"
      }
    },
    {
      "cell_type": "code",
      "source": [
        "stats.zscore(data)"
      ],
      "metadata": {
        "colab": {
          "base_uri": "https://localhost:8080/"
        },
        "id": "aH_RqSH2Sylj",
        "outputId": "24868aa7-81fe-4e3c-fe8a-ab7e614cb933"
      },
      "execution_count": 3,
      "outputs": [
        {
          "output_type": "execute_result",
          "data": {
            "text/plain": [
              "array([-1.39443338, -1.19522861, -1.19522861, -0.19920477,  0.        ,\n",
              "        0.        ,  0.39840954,  0.5976143 ,  1.19522861,  1.79284291])"
            ]
          },
          "metadata": {},
          "execution_count": 3
        }
      ]
    },
    {
      "cell_type": "markdown",
      "source": [
        "Each z-score tells us how many standard deviation away an individual value is from the mean.\n",
        "For example: The first value of\"6\" in the array is 1.394 standard deviation below the mean. The fifth value of\"13\" in the array is 0 satndard deviations away from the mean\n"
      ],
      "metadata": {
        "id": "d7M4aclrT6Hs"
      }
    }
  ]
}